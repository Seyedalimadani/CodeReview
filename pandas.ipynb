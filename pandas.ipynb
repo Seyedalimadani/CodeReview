{
 "cells": [
  {
   "cell_type": "code",
   "execution_count": 10,
   "metadata": {},
   "outputs": [],
   "source": [
    "import pandas as pd\n",
    "import numpy as np"
   ]
  },
  {
   "cell_type": "code",
   "execution_count": null,
   "metadata": {},
   "outputs": [],
   "source": [
    "df = pd.read_csv('test.csv',header=0, index_col=None, na_values=['nan'])\n",
    "df\n",
    "\n",
    "x=pd.DataFrame(np.array([('A','B','C'),(1,2,3),(4,5,6),(7,8,9)]))\n",
    "y= x.iloc[1:,:]\n",
    "y.columns=x.iloc[0,:]\n",
    "y.set_index(y.iloc[:,0],inplace=True)\n",
    "y"
   ]
  },
  {
   "cell_type": "code",
   "execution_count": 23,
   "metadata": {},
   "outputs": [
    {
     "data": {
      "text/plain": [
       "<bound method NDFrame.to_json of    Name  Age       City Sex Degree Level\n",
       "0  Sean   22    Toronto   M        B.Sc.\n",
       "1  Lily   25  Vancouver   F        M.Sc.\n",
       "2    Mo   30      Paris   M          PhD\n",
       "3   Ali   27    Calgary   M        M.Sc.>"
      ]
     },
     "execution_count": 23,
     "metadata": {},
     "output_type": "execute_result"
    }
   ],
   "source": [
    "b= df.to_json\n",
    "b"
   ]
  }
 ],
 "metadata": {
  "kernelspec": {
   "display_name": "Python 3",
   "language": "python",
   "name": "python3"
  },
  "language_info": {
   "codemirror_mode": {
    "name": "ipython",
    "version": 3
   },
   "file_extension": ".py",
   "mimetype": "text/x-python",
   "name": "python",
   "nbconvert_exporter": "python",
   "pygments_lexer": "ipython3",
   "version": "3.11.7"
  }
 },
 "nbformat": 4,
 "nbformat_minor": 2
}
