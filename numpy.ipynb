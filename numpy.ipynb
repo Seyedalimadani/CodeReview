{
 "cells": [
  {
   "cell_type": "code",
   "execution_count": 1,
   "metadata": {},
   "outputs": [],
   "source": [
    "import numpy as np"
   ]
  },
  {
   "cell_type": "markdown",
   "metadata": {},
   "source": [
    "## Importing/Writing .txt and csv .files "
   ]
  },
  {
   "cell_type": "markdown",
   "metadata": {},
   "source": [
    "### Reading"
   ]
  },
  {
   "cell_type": "code",
   "execution_count": 8,
   "metadata": {},
   "outputs": [
    {
     "name": "stdout",
     "output_type": "stream",
     "text": [
      "[ 1.  2.  3.  4.  5.  6.  7.  8.  9. 10.]\n",
      "[[nan nan nan nan nan]\n",
      " [nan 22. nan nan nan]\n",
      " [nan 25. nan nan nan]\n",
      " [nan 30. nan nan nan]\n",
      " [nan 27. nan nan nan]]\n"
     ]
    }
   ],
   "source": [
    "textfile = np.loadtxt('text.txt', delimiter='-')\n",
    "print(textfile)\n",
    "\n",
    "# For CSV it only recognize the numerical data and other info would be nan\n",
    "csvfile=np.genfromtxt('test.csv',delimiter=',')\n",
    "print(csvfile)"
   ]
  },
  {
   "cell_type": "markdown",
   "metadata": {},
   "source": [
    "### Writing"
   ]
  },
  {
   "cell_type": "code",
   "execution_count": 12,
   "metadata": {},
   "outputs": [],
   "source": [
    "newdata = textfile*2\n",
    "np.savetxt('Newtxt.txt',newdata,delimiter=',')\n",
    "np.savetxt('newCSV',csvfile[1:,1],delimiter=',')"
   ]
  },
  {
   "cell_type": "markdown",
   "metadata": {},
   "source": [
    "## Array Definition"
   ]
  }
 ],
 "metadata": {
  "kernelspec": {
   "display_name": "Python 3",
   "language": "python",
   "name": "python3"
  },
  "language_info": {
   "codemirror_mode": {
    "name": "ipython",
    "version": 3
   },
   "file_extension": ".py",
   "mimetype": "text/x-python",
   "name": "python",
   "nbconvert_exporter": "python",
   "pygments_lexer": "ipython3",
   "version": "3.11.7"
  }
 },
 "nbformat": 4,
 "nbformat_minor": 2
}
