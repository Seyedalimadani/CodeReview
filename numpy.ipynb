{
 "cells": [
  {
   "cell_type": "code",
   "execution_count": 1,
   "metadata": {},
   "outputs": [],
   "source": [
    "import numpy as np"
   ]
  },
  {
   "cell_type": "markdown",
   "metadata": {},
   "source": [
    "## Importing/Writing .txt and csv .files "
   ]
  },
  {
   "cell_type": "markdown",
   "metadata": {},
   "source": [
    "### Reading"
   ]
  },
  {
   "cell_type": "code",
   "execution_count": null,
   "metadata": {},
   "outputs": [],
   "source": [
    "textfile = np.loadtxt('text.txt', delimiter='-')\n",
    "print(textfile)\n",
    "\n",
    "# For CSV it only recognize the numerical data and other info would be nan\n",
    "csvfile=np.genfromtxt('test.csv',delimiter=',')\n",
    "print(csvfile)"
   ]
  },
  {
   "cell_type": "markdown",
   "metadata": {},
   "source": [
    "### Writing"
   ]
  },
  {
   "cell_type": "code",
   "execution_count": 12,
   "metadata": {},
   "outputs": [],
   "source": [
    "newdata = textfile*2\n",
    "np.savetxt('Newtxt.txt',newdata,delimiter=',')\n",
    "np.savetxt('newCSV',csvfile[1:,1],delimiter=',')"
   ]
  },
  {
   "cell_type": "markdown",
   "metadata": {},
   "source": [
    "## Array Definition"
   ]
  },
  {
   "cell_type": "markdown",
   "metadata": {},
   "source": [
    "### One Dimensional"
   ]
  },
  {
   "cell_type": "code",
   "execution_count": null,
   "metadata": {},
   "outputs": [],
   "source": [
    "arr1 = np.array([1,2,3,4,5])\n",
    "arr1"
   ]
  },
  {
   "cell_type": "markdown",
   "metadata": {},
   "source": [
    "### Two Dimensional"
   ]
  },
  {
   "cell_type": "code",
   "execution_count": null,
   "metadata": {},
   "outputs": [],
   "source": [
    "arr2= np.array([(1,2,3),(4,5,6)])\n",
    "arr2"
   ]
  },
  {
   "cell_type": "markdown",
   "metadata": {},
   "source": [
    "### Four Dimensional"
   ]
  },
  {
   "cell_type": "markdown",
   "metadata": {},
   "source": [
    "It is a 2* 2* 2* 2 array (4 Dimensions). 2 list contains 2 list which contains 2 list containing 2 other list!"
   ]
  },
  {
   "cell_type": "code",
   "execution_count": null,
   "metadata": {},
   "outputs": [],
   "source": [
    "arr3 = np.array([[[[1, 2], [3, 4]],[[5, 6], [7, 8]]],[[[9, 10], [11, 12]],[[13, 14], [15, 16]]]])\n",
    "arr3"
   ]
  },
  {
   "cell_type": "markdown",
   "metadata": {},
   "source": [
    "## Useful array Creator Commands"
   ]
  },
  {
   "cell_type": "code",
   "execution_count": null,
   "metadata": {},
   "outputs": [],
   "source": [
    "arr4 = np.zeros((2,3)) # Inside tuple No of memebers shows the desired dimensions\n",
    "print(arr4)\n",
    "\n",
    "arr5=np.ones((2,2,2))\n",
    "print(arr5)\n",
    "\n",
    "arr6 = np.eye(4)  # I (identity) Matrix\n",
    "print(arr6)\n",
    "\n",
    "arr7 = np.linspace(0,20,5) #(i,f,No)\n",
    "print(arr7)\n",
    "\n",
    "arr8 = np.arange(0,20,4) #(i,f,step)\n",
    "print(arr8)\n",
    "\n",
    "arr9 = np.full((2,3),7)  # ((DIMENSIONS), Desired Value)\n",
    "print(arr9)\n",
    "\n",
    "arr10 = np.random.rand(4,5)\n",
    "print(arr10)\n",
    "\n",
    "arr11 = np.random.randint(9, size=(2,2,2))\n",
    "print(arr11)"
   ]
  },
  {
   "cell_type": "markdown",
   "metadata": {},
   "source": [
    "## Converting and Inspecting"
   ]
  },
  {
   "cell_type": "code",
   "execution_count": null,
   "metadata": {},
   "outputs": [],
   "source": [
    "print(arr11.size)\n",
    "print(arr11.shape)\n",
    "print(arr11.dtype)\n",
    "arr12 = arr11.astype(float)\n",
    "print(arr12)\n",
    "list1 = arr11.tolist()\n",
    "print(list1)\n",
    "\n",
    "\n",
    "np.info(np.random)"
   ]
  },
  {
   "cell_type": "markdown",
   "metadata": {},
   "source": [
    "## Copy, Sort and Reshape"
   ]
  },
  {
   "cell_type": "code",
   "execution_count": null,
   "metadata": {},
   "outputs": [],
   "source": [
    "arr13 = arr11.copy()\n",
    "# or\n",
    "arr13 = np.copy(arr11)\n",
    "arr14 = arr13.sort(axis=0) # 0 is for row and 1 is for column\n",
    "print(arr14)\n",
    "\n",
    "arr_flatten = arr13.flatten()\n",
    "arr_transpose = arr13.T\n",
    "\n",
    "print(arr_flatten)\n",
    "print(arr_transpose)\n",
    "\n",
    "arr15  = arr13.reshape(4,2)  # size should be same \n",
    "print(arr15)\n",
    "\n",
    "arr16 = np.resize(arr13,(10,10))  # size can be diffrent\n",
    "print(arr16)\n",
    "\n"
   ]
  },
  {
   "cell_type": "markdown",
   "metadata": {},
   "source": [
    "## Add, Remove, Combine, Split "
   ]
  },
  {
   "cell_type": "code",
   "execution_count": null,
   "metadata": {},
   "outputs": [],
   "source": []
  }
 ],
 "metadata": {
  "kernelspec": {
   "display_name": "Python 3",
   "language": "python",
   "name": "python3"
  },
  "language_info": {
   "codemirror_mode": {
    "name": "ipython",
    "version": 3
   },
   "file_extension": ".py",
   "mimetype": "text/x-python",
   "name": "python",
   "nbconvert_exporter": "python",
   "pygments_lexer": "ipython3",
   "version": "3.11.7"
  }
 },
 "nbformat": 4,
 "nbformat_minor": 2
}
